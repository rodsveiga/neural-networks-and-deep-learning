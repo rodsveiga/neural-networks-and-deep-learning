{
 "cells": [
  {
   "cell_type": "code",
   "execution_count": 32,
   "metadata": {
    "collapsed": true
   },
   "outputs": [],
   "source": [
    "import numpy as np\n",
    "import random\n",
    "np.random.seed(12)"
   ]
  },
  {
   "cell_type": "code",
   "execution_count": 33,
   "metadata": {},
   "outputs": [
    {
     "data": {
      "text/plain": [
       "array([[ 0.47298583, -0.68142588,  0.2424395 , -1.70073563],\n",
       "       [ 0.75314283, -1.53472134,  0.00512708, -0.12022767]])"
      ]
     },
     "execution_count": 33,
     "metadata": {},
     "output_type": "execute_result"
    }
   ],
   "source": [
    "np.random.randn(2, 4) "
   ]
  },
  {
   "cell_type": "code",
   "execution_count": 34,
   "metadata": {},
   "outputs": [
    {
     "data": {
      "text/plain": [
       "[2, 3, 4]"
      ]
     },
     "execution_count": 34,
     "metadata": {},
     "output_type": "execute_result"
    }
   ],
   "source": [
    "sizes_test = [2, 3, 4, 1]\n",
    "sizes_test[:-1]"
   ]
  },
  {
   "cell_type": "code",
   "execution_count": 35,
   "metadata": {},
   "outputs": [
    {
     "data": {
      "text/plain": [
       "[3, 4, 1]"
      ]
     },
     "execution_count": 35,
     "metadata": {},
     "output_type": "execute_result"
    }
   ],
   "source": [
    "sizes_test[1:]"
   ]
  },
  {
   "cell_type": "code",
   "execution_count": 38,
   "metadata": {},
   "outputs": [
    {
     "name": "stdout",
     "output_type": "stream",
     "text": [
      "3 2\n",
      "[[-0.52840432 -0.03920917]\n",
      " [ 0.21497595 -0.3843588 ]\n",
      " [-0.25390408  0.07325207]]\n",
      "4 3\n",
      "[[-0.99720384 -0.71385629  0.03541635]\n",
      " [-0.67794537 -0.57188106 -0.10586232]\n",
      " [ 1.33583134  0.31866529 -0.33759525]\n",
      " [-0.58526828 -0.11491994  2.24181779]]\n",
      "1 4\n",
      "[[-3.14741652  0.53513589  0.23249044  0.86761195]]\n"
     ]
    }
   ],
   "source": [
    "for x, y in zip(sizes_test[:-1], sizes_test[1:]):\n",
    "    print(y, x)\n",
    "    print(np.random.randn(y,x))"
   ]
  },
  {
   "cell_type": "code",
   "execution_count": 39,
   "metadata": {},
   "outputs": [
    {
     "data": {
      "text/plain": [
       "[array([[-1.14821271,  2.11434424],\n",
       "        [ 1.00094276, -0.051415  ],\n",
       "        [ 0.1597877 , -0.71626359]]),\n",
       " array([[ 0.05052283, -0.14333741,  0.94357539],\n",
       "        [ 0.35764423, -0.0834492 ,  0.6778061 ],\n",
       "        [ 0.55606037,  0.22271946, -1.52898548],\n",
       "        [ 1.02921118, -1.16625876, -1.00956165]]),\n",
       " array([[-0.10526799,  0.51202216,  1.40772776, -1.68769633]])]"
      ]
     },
     "execution_count": 39,
     "metadata": {},
     "output_type": "execute_result"
    }
   ],
   "source": [
    "weights = [np.random.randn(y,x) for x, y in zip(sizes_test[:-1], sizes_test[1:])]\n",
    "weights"
   ]
  },
  {
   "cell_type": "code",
   "execution_count": 40,
   "metadata": {},
   "outputs": [
    {
     "data": {
      "text/plain": [
       "[array([[ 1.47123399],\n",
       "        [ 1.63646291],\n",
       "        [-0.46139494]]), array([[-0.20136227],\n",
       "        [-0.57181673],\n",
       "        [-0.60329911],\n",
       "        [-1.33938922]]), array([[-1.68965292]])]"
      ]
     },
     "execution_count": 40,
     "metadata": {},
     "output_type": "execute_result"
    }
   ],
   "source": [
    "biases = [np.random.randn(y, 1) for y in sizes_test[1:]]\n",
    "biases"
   ]
  },
  {
   "cell_type": "code",
   "execution_count": 44,
   "metadata": {},
   "outputs": [
    {
     "data": {
      "text/plain": [
       "array([[ 0.22583048,  0.22444419,  0.22883027]])"
      ]
     },
     "execution_count": 44,
     "metadata": {},
     "output_type": "execute_result"
    }
   ],
   "source": [
    "a = [1,0] #Input in the first layer\n",
    "\n",
    "for b, w in zip(biases, weights):\n",
    "    a = sigmoid( np.dot(w, a) + b)\n",
    "\n",
    "a #Output in the second layer"
   ]
  },
  {
   "cell_type": "code",
   "execution_count": 24,
   "metadata": {
    "collapsed": true
   },
   "outputs": [],
   "source": [
    "def sigmoid(x):\n",
    "    \"\"\"The sigmoid function\"\"\"\n",
    "    return 1.0/(1.0 + np.exp(-x))"
   ]
  },
  {
   "cell_type": "code",
   "execution_count": null,
   "metadata": {
    "collapsed": true
   },
   "outputs": [],
   "source": [
    "class Network(object):\n",
    "    \n",
    "    def __init__(self, sizes):\n",
    "        \"\"\"Initializing the Network class\"\"\"\n",
    "        self.num_layers = len(sizes)\n",
    "        self.sizes = sizes\n",
    "        self.biases = [np.random.randn(y, 1) for y in sizes[1:]]\n",
    "        self.weights = [np.random.randn(y,x)\n",
    "                       for x, y in zip(sizes[:-1], sizes[1:])]\n",
    "        \n",
    "        \"\"\"The list ``sizes`` contains the number of neurons in the\n",
    "        respective layers of the network.  For example, if the list\n",
    "        was [2, 3, 1] then it would be a three-layer network, with the\n",
    "        first layer containing 2 neurons, the second layer 3 neurons,\n",
    "        and the third layer 1 neuron.  The biases and weights for the\n",
    "        network are initialized randomly with ``np.random.randn``,\n",
    "        which samples from a Gaussian distribution with mean 0, and \n",
    "        variance 1.  Note that the first layer is assumed to be an \n",
    "        input layer, and by convention we won't set any biases for \n",
    "        those neurons, since biases are only ever used in computing \n",
    "        the outputs from later layers.\"\"\"\n",
    "    \n",
    "    \"\"\"#######################################################################\"\"\"\n",
    "    \n",
    "    def feedforward(self, a):\n",
    "        \"\"\"Return the output of the network if ``a`` is the input\"\"\"\n",
    "        for b, w in zip(self.biases, self.weights):\n",
    "            a = sigmoid( np.dot(w, a) + b)\n",
    "        return a\n",
    "    \n",
    "    \"\"\"#######################################################################\"\"\"\n",
    "    \n",
    "    def SGD(self, training_data, epochs, mini_batch_size, eta, test_data=None):\n",
    "        \"\"\" Train the neural network using mini-batch stochastic gradient descent\"\"\"\n",
    "        if test_data:\n",
    "            n_test = len(test_data)\n",
    "            \n",
    "        n = len(training_data)\n",
    "        \n",
    "        for j in xrange(epochs):\n",
    "            random.shuffle(training_data)\n",
    "            \n",
    "            mini_batches = [\n",
    "                training_data[k: k + mini_batch_size]\n",
    "                for k in xrange(0, n, mini_batch_size)\n",
    "            ]\n",
    "            \n",
    "            for mini_batch in mini_batches:\n",
    "                self.update_mini_batch(mini_batch_size)\n",
    "                \n",
    "            if test_data:\n",
    "                print(\"Epoch {0}: {1} / {2}\".format(j, self.evaluate(test_data), n_test))\n",
    "            else:\n",
    "                print(\"Epoch {0} complete\".format(j))\n",
    "                \n",
    "        \"\"\"The ``training_data`` is a list of tuples ``(x, y)`` representing the \n",
    "        training inputs and the desired outputs.  The other non-optional parameters are\n",
    "        self-explanatory.  If ``test_data`` is provided then the network will be \n",
    "        evaluated against the test data after each epoch, and partial progress printed out.\n",
    "        This is useful for tracking progress, but slows things down substantially\"\"\"\n",
    "        \n",
    "        \"\"\"The code works as follows. In each epoch, it starts by randomly shuffling\n",
    "        the training data, and then partitions it into mini-batches of the appropriate \n",
    "        size. This is an easy way of sampling randomly from the training data. Then for each\n",
    "        mini_batch we apply a single step of gradient descent. This is done by the \n",
    "        code ``self.update_mini_batch(mini_batch, eta)``, which updates the network weights\n",
    "        and biases according to a single iteration of gradient descent, using just the\n",
    "        training data in ``mini_batch``. Below there is the code for \n",
    "        the ``update_mini_batch method``.\"\"\"\n",
    "        \n",
    "    \"\"\"#######################################################################\"\"\"\n",
    "    \n",
    "    def update_mini_batch(self, mini_batch, eta):\n",
    "        \"\"\"Update the network's weights and biases by applying gradient descent using \n",
    "        backpropagation to a single mini batch. The ``mini_batch`` is a list of \n",
    "        tuples ``(x, y)``, and ``eta`` is the learning rate.\"\"\"\n",
    "        nabla_b = [np.zeros(b.shape) for b in self.biases]\n",
    "        nabla_w = [np.zeros(w.shape) for w in self.weights]\n",
    "        \n",
    "        for x, y in mini_batch:\n",
    "            delta_nabla_b, delta_nabla_w = self.backprop(x,y)\n",
    "            nabla_b = [nb + dnb for nb, dnb in zip(nabla_b, delta_nabla_b)]\n",
    "            nabla_w = [nw + dnw for nw, dnw in zip(nabla_w, delta_nabla_w)]\n",
    "            \n",
    "        self.weights = [\n",
    "            w - (eta / len(mini_batch))*nw\n",
    "            for w, nw in zip(self.weights, nabla_w)\n",
    "        ]\n",
    "        \n",
    "        self.biases = [\n",
    "            b - (eta / len(mini_batch))*nb\n",
    "            for b, nb in zip(self.biases, nabla_b)\n",
    "        ]\n",
    "        \n",
    "    \"\"\"#######################################################################\"\"\"\n",
    "    \n",
    "    \n",
    "            \n",
    "    \n",
    "    \n",
    "                \n",
    "        \n",
    "                \n",
    "    "
   ]
  }
 ],
 "metadata": {
  "kernelspec": {
   "display_name": "Python 3",
   "language": "python",
   "name": "python3"
  },
  "language_info": {
   "codemirror_mode": {
    "name": "ipython",
    "version": 3
   },
   "file_extension": ".py",
   "mimetype": "text/x-python",
   "name": "python",
   "nbconvert_exporter": "python",
   "pygments_lexer": "ipython3",
   "version": "3.6.3"
  },
  "latex_envs": {
   "LaTeX_envs_menu_present": true,
   "autocomplete": true,
   "bibliofile": "biblio.bib",
   "cite_by": "apalike",
   "current_citInitial": 1,
   "eqLabelWithNumbers": true,
   "eqNumInitial": 1,
   "hotkeys": {
    "equation": "Ctrl-E",
    "itemize": "Ctrl-I"
   },
   "labels_anchors": false,
   "latex_user_defs": false,
   "report_style_numbering": false,
   "user_envs_cfg": false
  }
 },
 "nbformat": 4,
 "nbformat_minor": 2
}
